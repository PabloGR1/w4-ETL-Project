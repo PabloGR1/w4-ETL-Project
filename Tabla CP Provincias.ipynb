{
 "cells": [
  {
   "cell_type": "markdown",
   "id": "b2a70a45",
   "metadata": {},
   "source": [
    "# mongo db"
   ]
  },
  {
   "cell_type": "code",
   "execution_count": 54,
   "id": "b29dca29",
   "metadata": {},
   "outputs": [],
   "source": [
    "from datetime import date\n",
    "from datetime import datetime\n",
    "from tqdm import tqdm\n",
    "from pymongo import MongoClient"
   ]
  },
  {
   "cell_type": "code",
   "execution_count": 55,
   "id": "31ddd100",
   "metadata": {},
   "outputs": [],
   "source": [
    "import warnings\n",
    "warnings.filterwarnings('ignore')"
   ]
  },
  {
   "cell_type": "code",
   "execution_count": 56,
   "id": "38d15aac",
   "metadata": {},
   "outputs": [
    {
     "data": {
      "text/plain": [
       "MongoClient(host=['localhost:27017'], document_class=dict, tz_aware=False, connect=True)"
      ]
     },
     "execution_count": 56,
     "metadata": {},
     "output_type": "execute_result"
    }
   ],
   "source": [
    "cursor=MongoClient('mongodb://localhost:27017')\n",
    "\n",
    "cursor"
   ]
  },
  {
   "cell_type": "code",
   "execution_count": 57,
   "id": "e8511371",
   "metadata": {},
   "outputs": [],
   "source": [
    "db=cursor.BlaBlaCar # bbdd\n",
    "colec=db.CP # tabla"
   ]
  },
  {
   "cell_type": "code",
   "execution_count": 58,
   "id": "fd322379",
   "metadata": {},
   "outputs": [
    {
     "data": {
      "text/plain": [
       "['BlaBlaCar', 'Ironhack', 'admin', 'config', 'local']"
      ]
     },
     "execution_count": 58,
     "metadata": {},
     "output_type": "execute_result"
    }
   ],
   "source": [
    "cursor.list_database_names()"
   ]
  },
  {
   "cell_type": "code",
   "execution_count": null,
   "id": "0464b5fd",
   "metadata": {},
   "outputs": [],
   "source": []
  },
  {
   "cell_type": "markdown",
   "id": "b22820c5",
   "metadata": {},
   "source": [
    "# importar tabla CP por provincia"
   ]
  },
  {
   "cell_type": "code",
   "execution_count": 3,
   "id": "167bc945",
   "metadata": {},
   "outputs": [
    {
     "name": "stderr",
     "output_type": "stream",
     "text": [
      "/Users/pgr/opt/anaconda3/lib/python3.9/site-packages/requests/__init__.py:89: RequestsDependencyWarning: urllib3 (1.26.12) or chardet (3.0.4) doesn't match a supported version!\n",
      "  warnings.warn(\"urllib3 ({}) or chardet ({}) doesn't match a supported \"\n"
     ]
    }
   ],
   "source": [
    "import requests as req\n",
    "from bs4 import BeautifulSoup as bs\n",
    "import pandas as pd"
   ]
  },
  {
   "cell_type": "code",
   "execution_count": 4,
   "id": "b7275934",
   "metadata": {},
   "outputs": [],
   "source": [
    "url = 'https://es.wikipedia.org/wiki/Anexo:Provincias_de_Espa%C3%B1a_por_c%C3%B3digo_postal'"
   ]
  },
  {
   "cell_type": "code",
   "execution_count": 47,
   "id": "3cb6a933",
   "metadata": {
    "collapsed": true
   },
   "outputs": [
    {
     "data": {
      "text/plain": [
       "<table align=\"top\" border=\"0\" class=\"sortablputas ricolinas010hzjswikitable\" style=\"background:#ffffff\">\n",
       "<caption align=\"center\" style=\"background:#9BC4E2; color:white\"><big>Provincias de España por código postal</big>\n",
       "</caption>\n",
       "<tbody><tr>\n",
       "<th style=\"background:Linen; color:Black\" width=\"200\">Código postal\n",
       "</th>\n",
       "<th style=\"background:Linen; color:Black\" width=\"200\">Provincia\n",
       "</th>\n",
       "<th style=\"background:Linen; color:Black\" width=\"200\">Código Ministerio del Interior\n",
       "</th></tr>\n",
       "<tr>\n",
       "<td>01</td>\n",
       "<td><a href=\"/wiki/%C3%81lava\" title=\"Álava\">Álava</a></td>\n",
       "<td>VI\n",
       "</td></tr>\n",
       "<tr>\n",
       "<td>02</td>\n",
       "<td><a href=\"/wiki/Provincia_de_Albacete\" title=\"Provincia de Albacete\">Albacete</a></td>\n",
       "<td>AB\n",
       "</td></tr>\n",
       "<tr>\n",
       "<td>03</td>\n",
       "<td><a href=\"/wiki/Provincia_de_Alicante\" title=\"Provincia de Alicante\">Alicante</a></td>\n",
       "<td>A\n",
       "</td></tr>\n",
       "<tr>\n",
       "<td>04</td>\n",
       "<td><a href=\"/wiki/Provincia_de_Almer%C3%ADa\" title=\"Provincia de Almería\">Almería</a></td>\n",
       "<td>AL\n",
       "</td></tr>\n",
       "<tr>\n",
       "<td>05</td>\n",
       "<td><a href=\"/wiki/Provincia_de_%C3%81vila\" title=\"Provincia de Ávila\">Ávila</a></td>\n",
       "<td>AV\n",
       "</td></tr>\n",
       "<tr>\n",
       "<td>06</td>\n",
       "<td><a href=\"/wiki/Provincia_de_Badajoz\" title=\"Provincia de Badajoz\">Badajoz</a></td>\n",
       "<td>BA\n",
       "</td></tr>\n",
       "<tr>\n",
       "<td>07</td>\n",
       "<td><a class=\"mw-redirect\" href=\"/wiki/Baleares\" title=\"Baleares\">Baleares</a></td>\n",
       "<td>PM / IB\n",
       "</td></tr>\n",
       "<tr>\n",
       "<td>08</td>\n",
       "<td><a href=\"/wiki/Provincia_de_Barcelona\" title=\"Provincia de Barcelona\">Barcelona</a></td>\n",
       "<td>B\n",
       "</td></tr>\n",
       "<tr>\n",
       "<td>09</td>\n",
       "<td><a href=\"/wiki/Provincia_de_Burgos\" title=\"Provincia de Burgos\">Burgos</a></td>\n",
       "<td>BU\n",
       "</td></tr>\n",
       "<tr>\n",
       "<td>10</td>\n",
       "<td><a href=\"/wiki/Provincia_de_C%C3%A1ceres\" title=\"Provincia de Cáceres\">Cáceres</a></td>\n",
       "<td>CC\n",
       "</td></tr>\n",
       "<tr>\n",
       "<td>11</td>\n",
       "<td><a href=\"/wiki/Provincia_de_C%C3%A1diz\" title=\"Provincia de Cádiz\">Cádiz</a></td>\n",
       "<td>CA\n",
       "</td></tr>\n",
       "<tr>\n",
       "<td>12</td>\n",
       "<td><a href=\"/wiki/Provincia_de_Castell%C3%B3n\" title=\"Provincia de Castellón\">Castellón</a></td>\n",
       "<td>CS\n",
       "</td></tr>\n",
       "<tr>\n",
       "<td>13</td>\n",
       "<td><a href=\"/wiki/Provincia_de_Ciudad_Real\" title=\"Provincia de Ciudad Real\">Ciudad Real</a></td>\n",
       "<td>CR\n",
       "</td></tr>\n",
       "<tr>\n",
       "<td>14</td>\n",
       "<td><a href=\"/wiki/Provincia_de_C%C3%B3rdoba_(Espa%C3%B1a)\" title=\"Provincia de Córdoba (España)\">Córdoba</a></td>\n",
       "<td>CO\n",
       "</td></tr>\n",
       "<tr>\n",
       "<td>15</td>\n",
       "<td><a href=\"/wiki/Provincia_de_La_Coru%C3%B1a\" title=\"Provincia de La Coruña\">La Coruña</a></td>\n",
       "<td>C\n",
       "</td></tr>\n",
       "<tr>\n",
       "<td>16</td>\n",
       "<td><a href=\"/wiki/Provincia_de_Cuenca\" title=\"Provincia de Cuenca\">Cuenca</a></td>\n",
       "<td>CU\n",
       "</td></tr>\n",
       "<tr>\n",
       "<td>17</td>\n",
       "<td><a href=\"/wiki/Provincia_de_Gerona\" title=\"Provincia de Gerona\">Gerona/Girona</a></td>\n",
       "<td>GE / GI\n",
       "</td></tr>\n",
       "<tr>\n",
       "<td>18</td>\n",
       "<td><a href=\"/wiki/Provincia_de_Granada\" title=\"Provincia de Granada\">Granada</a></td>\n",
       "<td>GR\n",
       "</td></tr>\n",
       "<tr>\n",
       "<td>19</td>\n",
       "<td><a href=\"/wiki/Provincia_de_Guadalajara\" title=\"Provincia de Guadalajara\">Guadalajara</a></td>\n",
       "<td>GU\n",
       "</td></tr>\n",
       "<tr>\n",
       "<td>20</td>\n",
       "<td><a href=\"/wiki/Guip%C3%BAzcoa\" title=\"Guipúzcoa\">Guipúzcoa</a></td>\n",
       "<td>SS\n",
       "</td></tr>\n",
       "<tr>\n",
       "<td>21</td>\n",
       "<td><a href=\"/wiki/Provincia_de_Huelva\" title=\"Provincia de Huelva\">Huelva</a></td>\n",
       "<td>H\n",
       "</td></tr>\n",
       "<tr>\n",
       "<td>22</td>\n",
       "<td><a href=\"/wiki/Provincia_de_Huesca\" title=\"Provincia de Huesca\">Huesca</a></td>\n",
       "<td>HU\n",
       "</td></tr>\n",
       "<tr>\n",
       "<td>23</td>\n",
       "<td><a href=\"/wiki/Provincia_de_Ja%C3%A9n_(Espa%C3%B1a)\" title=\"Provincia de Jaén (España)\">Jaén</a></td>\n",
       "<td>J\n",
       "</td></tr>\n",
       "<tr>\n",
       "<td>24</td>\n",
       "<td><a href=\"/wiki/Provincia_de_Le%C3%B3n\" title=\"Provincia de León\">León</a></td>\n",
       "<td>LE\n",
       "</td></tr>\n",
       "<tr>\n",
       "<td>25</td>\n",
       "<td><a href=\"/wiki/Provincia_de_L%C3%A9rida\" title=\"Provincia de Lérida\">Lérida/Lleida</a></td>\n",
       "<td>L\n",
       "</td></tr>\n",
       "<tr>\n",
       "<td>26</td>\n",
       "<td><a href=\"/wiki/La_Rioja_(Espa%C3%B1a)\" title=\"La Rioja (España)\">La Rioja</a></td>\n",
       "<td>LO\n",
       "</td></tr>\n",
       "<tr>\n",
       "<td>27</td>\n",
       "<td><a href=\"/wiki/Provincia_de_Lugo\" title=\"Provincia de Lugo\">Lugo</a></td>\n",
       "<td>LU\n",
       "</td></tr>\n",
       "<tr>\n",
       "<td>28</td>\n",
       "<td><a href=\"/wiki/Provincia_de_Madrid\" title=\"Provincia de Madrid\">Madrid</a></td>\n",
       "<td>M\n",
       "</td></tr>\n",
       "<tr>\n",
       "<td>29</td>\n",
       "<td><a href=\"/wiki/Provincia_de_M%C3%A1laga\" title=\"Provincia de Málaga\">Málaga</a></td>\n",
       "<td>MA\n",
       "</td></tr>\n",
       "<tr>\n",
       "<td>30</td>\n",
       "<td><a href=\"/wiki/Provincia_de_Murcia\" title=\"Provincia de Murcia\">Murcia</a></td>\n",
       "<td>MU\n",
       "</td></tr>\n",
       "<tr>\n",
       "<td>31</td>\n",
       "<td><a href=\"/wiki/Navarra\" title=\"Navarra\">Navarra</a></td>\n",
       "<td>NA\n",
       "</td></tr>\n",
       "<tr>\n",
       "<td>32</td>\n",
       "<td><a href=\"/wiki/Provincia_de_Orense\" title=\"Provincia de Orense\">Orense</a></td>\n",
       "<td>OR / OU\n",
       "</td></tr>\n",
       "<tr>\n",
       "<td>33</td>\n",
       "<td><a href=\"/wiki/Asturias\" title=\"Asturias\">Asturias</a></td>\n",
       "<td>O\n",
       "</td></tr>\n",
       "<tr>\n",
       "<td>34</td>\n",
       "<td><a href=\"/wiki/Provincia_de_Palencia\" title=\"Provincia de Palencia\">Palencia</a></td>\n",
       "<td>P\n",
       "</td></tr>\n",
       "<tr>\n",
       "<td>35</td>\n",
       "<td><a href=\"/wiki/Provincia_de_Las_Palmas\" title=\"Provincia de Las Palmas\">Las Palmas</a></td>\n",
       "<td>GC\n",
       "</td></tr>\n",
       "<tr>\n",
       "<td>36</td>\n",
       "<td><a href=\"/wiki/Provincia_de_Pontevedra\" title=\"Provincia de Pontevedra\">Pontevedra</a></td>\n",
       "<td>PO\n",
       "</td></tr>\n",
       "<tr>\n",
       "<td>37</td>\n",
       "<td><a href=\"/wiki/Provincia_de_Salamanca\" title=\"Provincia de Salamanca\">Salamanca</a></td>\n",
       "<td>SA\n",
       "</td></tr>\n",
       "<tr>\n",
       "<td>38</td>\n",
       "<td><a href=\"/wiki/Provincia_de_Santa_Cruz_de_Tenerife\" title=\"Provincia de Santa Cruz de Tenerife\">Santa Cruz de Tenerife</a></td>\n",
       "<td>TF\n",
       "</td></tr>\n",
       "<tr>\n",
       "<td>39</td>\n",
       "<td><a href=\"/wiki/Cantabria\" title=\"Cantabria\">Cantabria</a></td>\n",
       "<td>S\n",
       "</td></tr>\n",
       "<tr>\n",
       "<td>40</td>\n",
       "<td><a href=\"/wiki/Provincia_de_Segovia\" title=\"Provincia de Segovia\">Segovia</a></td>\n",
       "<td>SG\n",
       "</td></tr>\n",
       "<tr>\n",
       "<td>41</td>\n",
       "<td><a href=\"/wiki/Provincia_de_Sevilla\" title=\"Provincia de Sevilla\">Sevilla</a></td>\n",
       "<td>SE\n",
       "</td></tr>\n",
       "<tr>\n",
       "<td>42</td>\n",
       "<td><a href=\"/wiki/Provincia_de_Soria\" title=\"Provincia de Soria\">Soria</a></td>\n",
       "<td>SO\n",
       "</td></tr>\n",
       "<tr>\n",
       "<td>43</td>\n",
       "<td><a href=\"/wiki/Provincia_de_Tarragona\" title=\"Provincia de Tarragona\">Tarragona</a></td>\n",
       "<td>T\n",
       "</td></tr>\n",
       "<tr>\n",
       "<td>44</td>\n",
       "<td><a href=\"/wiki/Provincia_de_Teruel\" title=\"Provincia de Teruel\">Teruel</a></td>\n",
       "<td>TE\n",
       "</td></tr>\n",
       "<tr>\n",
       "<td>45</td>\n",
       "<td><a href=\"/wiki/Provincia_de_Toledo\" title=\"Provincia de Toledo\">Toledo</a></td>\n",
       "<td>TO\n",
       "</td></tr>\n",
       "<tr>\n",
       "<td>46</td>\n",
       "<td><a href=\"/wiki/Provincia_de_Valencia\" title=\"Provincia de Valencia\">Valencia</a></td>\n",
       "<td>V\n",
       "</td></tr>\n",
       "<tr>\n",
       "<td>47</td>\n",
       "<td><a href=\"/wiki/Provincia_de_Valladolid\" title=\"Provincia de Valladolid\">Valladolid</a></td>\n",
       "<td>VA\n",
       "</td></tr>\n",
       "<tr>\n",
       "<td>48</td>\n",
       "<td><a href=\"/wiki/Vizcaya\" title=\"Vizcaya\">Vizcaya</a></td>\n",
       "<td>BI\n",
       "</td></tr>\n",
       "<tr>\n",
       "<td>49</td>\n",
       "<td><a href=\"/wiki/Provincia_de_Zamora\" title=\"Provincia de Zamora\">Zamora</a></td>\n",
       "<td>ZA\n",
       "</td></tr>\n",
       "<tr>\n",
       "<td>50</td>\n",
       "<td><a href=\"/wiki/Provincia_de_Zaragoza\" title=\"Provincia de Zaragoza\">Zaragoza</a></td>\n",
       "<td>Z\n",
       "</td></tr>\n",
       "<tr>\n",
       "<td>51</td>\n",
       "<td><a href=\"/wiki/Ceuta\" title=\"Ceuta\">Ceuta</a></td>\n",
       "<td>CE\n",
       "</td></tr>\n",
       "<tr>\n",
       "<td>52</td>\n",
       "<td><a href=\"/wiki/Melilla\" title=\"Melilla\">Melilla</a></td>\n",
       "<td>ML\n",
       "</td></tr>\n",
       "</tbody></table>"
      ]
     },
     "execution_count": 47,
     "metadata": {},
     "output_type": "execute_result"
    }
   ],
   "source": [
    "html=req.get(url).text\n",
    "\n",
    "sopa=bs(html, 'html.parser')\n",
    "\n",
    "tabla = sopa.find_all('table')[0]\n",
    "tabla"
   ]
  },
  {
   "cell_type": "code",
   "execution_count": 48,
   "id": "e2bca79d",
   "metadata": {
    "collapsed": true
   },
   "outputs": [
    {
     "data": {
      "text/plain": [
       "[['Código postal', '', 'Provincia', '', 'Código Ministerio del Interior'],\n",
       " ['01', 'Álava', 'VI'],\n",
       " ['02', 'Albacete', 'AB'],\n",
       " ['03', 'Alicante', 'A'],\n",
       " ['04', 'Almería', 'AL']]"
      ]
     },
     "execution_count": 48,
     "metadata": {},
     "output_type": "execute_result"
    }
   ],
   "source": [
    "tabla_limpia=tabla.find_all('tr')\n",
    "\n",
    "tabla_limpia=[f.text.strip().split('\\n') for f in tabla_limpia]\n",
    "\n",
    "tabla_limpia[:5]\n",
    "\n"
   ]
  },
  {
   "cell_type": "code",
   "execution_count": 49,
   "id": "af9197b6",
   "metadata": {},
   "outputs": [],
   "source": [
    "final=[]\n",
    "\n",
    "for f in tabla_limpia:\n",
    "    \n",
    "    tmp=[]\n",
    "    \n",
    "    for palabra in f:\n",
    "        \n",
    "        if palabra!='':\n",
    "            \n",
    "            tmp.append(palabra)\n",
    "            \n",
    "    final.append(tmp)\n",
    "    \n",
    "final[:5]\n"
   ]
  },
  {
   "cell_type": "code",
   "execution_count": 59,
   "id": "48441e99",
   "metadata": {},
   "outputs": [],
   "source": [
    "tabla_dict = []\n",
    "\n",
    "\n",
    "for i in range(len(tabla_limpia)):\n",
    "    try:\n",
    "        a = final[0:1]\n",
    "        a = a[0]\n",
    "        b = final[i+1:i+2]\n",
    "        b = b[0]\n",
    "        tabla_dict = dict(zip(a,b))\n",
    "        colec.insert_one(tabla_dict)\n",
    "        #print(tabla_dict)\n",
    "    except:\n",
    "        continue"
   ]
  },
  {
   "cell_type": "code",
   "execution_count": null,
   "id": "336b0400",
   "metadata": {},
   "outputs": [],
   "source": []
  }
 ],
 "metadata": {
  "kernelspec": {
   "display_name": "Python 3 (ipykernel)",
   "language": "python",
   "name": "python3"
  },
  "language_info": {
   "codemirror_mode": {
    "name": "ipython",
    "version": 3
   },
   "file_extension": ".py",
   "mimetype": "text/x-python",
   "name": "python",
   "nbconvert_exporter": "python",
   "pygments_lexer": "ipython3",
   "version": "3.9.12"
  }
 },
 "nbformat": 4,
 "nbformat_minor": 5
}
