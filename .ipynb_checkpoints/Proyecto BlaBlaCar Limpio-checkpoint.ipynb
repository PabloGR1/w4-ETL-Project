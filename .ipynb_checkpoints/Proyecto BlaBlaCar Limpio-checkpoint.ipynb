{
 "cells": [
  {
   "cell_type": "markdown",
   "id": "8cd387d1",
   "metadata": {},
   "source": [
    " # Conexión MongoDB"
   ]
  },
  {
   "cell_type": "markdown",
   "id": "011ab048",
   "metadata": {},
   "source": [
    " "
   ]
  },
  {
   "cell_type": "code",
   "execution_count": 1,
   "id": "a8685a58",
   "metadata": {
    "scrolled": true
   },
   "outputs": [],
   "source": [
    "#%pip install pymongo\n",
    "#%pip install selenium\n"
   ]
  },
  {
   "cell_type": "code",
   "execution_count": 2,
   "id": "35ad4ad0",
   "metadata": {},
   "outputs": [],
   "source": [
    "from datetime import date\n",
    "from datetime import datetime\n",
    "from tqdm import tqdm"
   ]
  },
  {
   "cell_type": "code",
   "execution_count": 3,
   "id": "1c3590ba",
   "metadata": {},
   "outputs": [
    {
     "name": "stderr",
     "output_type": "stream",
     "text": [
      "C:\\Users\\pable\\anaconda3\\lib\\site-packages\\requests\\__init__.py:89: RequestsDependencyWarning: urllib3 (1.26.12) or chardet (3.0.4) doesn't match a supported version!\n",
      "  warnings.warn(\"urllib3 ({}) or chardet ({}) doesn't match a supported \"\n"
     ]
    }
   ],
   "source": [
    "from pymongo import MongoClient\n",
    "\n",
    "import warnings\n",
    "warnings.filterwarnings('ignore')"
   ]
  },
  {
   "cell_type": "code",
   "execution_count": 4,
   "id": "7f599a4e",
   "metadata": {},
   "outputs": [
    {
     "data": {
      "text/plain": [
       "MongoClient(host=['localhost:27017'], document_class=dict, tz_aware=False, connect=True)"
      ]
     },
     "execution_count": 4,
     "metadata": {},
     "output_type": "execute_result"
    }
   ],
   "source": [
    "cursor=MongoClient('mongodb://localhost:27017')\n",
    "\n",
    "cursor"
   ]
  },
  {
   "cell_type": "code",
   "execution_count": 5,
   "id": "d0097b91",
   "metadata": {},
   "outputs": [],
   "source": [
    "db=cursor.BlaBlaCar # bbdd\n",
    "colec=db.viajes # tabla"
   ]
  },
  {
   "cell_type": "code",
   "execution_count": 6,
   "id": "2d2fed53",
   "metadata": {},
   "outputs": [
    {
     "data": {
      "text/plain": [
       "['BlaBlaCar', 'admin', 'config', 'local']"
      ]
     },
     "execution_count": 6,
     "metadata": {},
     "output_type": "execute_result"
    }
   ],
   "source": [
    "cursor.list_database_names()"
   ]
  },
  {
   "cell_type": "markdown",
   "id": "50ae5186",
   "metadata": {},
   "source": [
    " "
   ]
  },
  {
   "cell_type": "markdown",
   "id": "ffd163ed",
   "metadata": {},
   "source": [
    "# Selenium"
   ]
  },
  {
   "cell_type": "code",
   "execution_count": 7,
   "id": "4a02313d",
   "metadata": {},
   "outputs": [],
   "source": [
    "import pandas as pd\n",
    "from selenium import webdriver\n",
    "from selenium.webdriver.chrome.options import Options\n",
    "from selenium.webdriver.common.by import By\n",
    "from webdriver_manager.chrome import ChromeDriverManager\n",
    "import time\n",
    "import warnings\n",
    "warnings.filterwarnings('ignore')"
   ]
  },
  {
   "cell_type": "code",
   "execution_count": 9,
   "id": "aa3fc92f",
   "metadata": {},
   "outputs": [],
   "source": [
    "#driver configuration\n",
    "opciones=Options()\n",
    "\n",
    "opciones.add_experimental_option('excludeSwitches', ['enable-automation'])\n",
    "opciones.add_experimental_option('useAutomationExtension', False)\n",
    "opciones.headless=False    # si True, no aperece la ventana (headless=no visible)\n",
    "opciones.add_argument('--start-maximized')         # comienza maximizado\n",
    "#opciones.add_argument('user-data-dir=selenium')    # mantiene las cookies\n",
    "#opciones.add_extension('driver_folder/adblock.crx')       # adblocker\n",
    "#opciones.add_argument('--incognito')"
   ]
  },
  {
   "cell_type": "code",
   "execution_count": 10,
   "id": "49107b2c",
   "metadata": {},
   "outputs": [],
   "source": [
    "chromedriver = ChromeDriverManager().install() \n",
    "driver = webdriver.Chrome(chromedriver, options=opciones)  #driver windows\n",
    "#driver = \"/Users/pgr/Documents/chromedriver\"  #driver mac\n"
   ]
  },
  {
   "cell_type": "markdown",
   "id": "6cc3ad96",
   "metadata": {},
   "source": [
    " "
   ]
  },
  {
   "cell_type": "markdown",
   "id": "685749ce",
   "metadata": {},
   "source": [
    "# Función Scrap e insertar"
   ]
  },
  {
   "cell_type": "code",
   "execution_count": 11,
   "id": "774ab553",
   "metadata": {},
   "outputs": [],
   "source": [
    "def scrap_blablacar_new2 (url, i):\n",
    "    '''en caso de añadir mas items, hay que añadir\n",
    "        el item y la columna en columns'''\n",
    "     \n",
    "    \n",
    "    if (driver.find_elements(By.TAG_NAME, 'ul')[i].text.split('\\n')[0]) != '':\n",
    "        \n",
    "        driver.execute_script('window.scrollTo(0, document.body.scrollHeight);')\n",
    "        time.sleep(1)\n",
    "\n",
    "        \n",
    "        #capturamos items de la url de BlaBlaCar\n",
    "\n",
    "        origen = driver.find_elements(By.TAG_NAME, 'ul')[i].text.split('\\n')[2]\n",
    "        destino = driver.find_elements(By.TAG_NAME, 'ul')[i].text.split('\\n')[4]\n",
    "        fecha_sucia = driver.find_elements(By.TAG_NAME, 'a')[i].get_attribute('href')\n",
    "        fecha = fecha_sucia[fecha_sucia.index('db=')+3:fecha_sucia.index('db=')+13]\n",
    "        duracion = driver.find_elements(By.TAG_NAME, 'ul')[i].text.replace('h', '.').split('\\n')[1]                                \n",
    "        hora_salida = driver.find_elements(By.TAG_NAME, 'ul')[i].text.split('\\n')[0]\n",
    "        hora_llegada = driver.find_elements(By.TAG_NAME, 'ul')[i].text.split('\\n')[3]\n",
    "        id_sucio = driver.find_elements(By.TAG_NAME, 'a')[i].get_attribute('href')\n",
    "        id = id_sucio[id_sucio.index('id=')+3:id_sucio.index('-')]\n",
    "        id\n",
    "        \n",
    "        if (driver.find_elements(By.CLASS_NAME, 'kirk-tripCard-main')[i-5].text.split('\\n')[5]) != '': \n",
    "            precio = driver.find_elements(By.CLASS_NAME, 'kirk-tripCard-main')[i-5].text.split('\\n')[5]\n",
    "        else:\n",
    "            precio = '0'\n",
    "\n",
    "        #creamos diccionario con la estructura de la tabla necesaria\n",
    "        columns = ['ID', 'FECHA', 'ORIGEN', 'DESTINO', 'HORA_SALIDA', 'HORA_LLEGADA', 'DURACION', 'PRECIO']\n",
    "        datos = [id, fecha, origen, destino, hora_salida, hora_llegada, duracion, precio]\n",
    "        data = dict(zip(columns, datos))\n",
    "\n",
    "        colec.insert_one(data)\n",
    "    \n",
    "    return data   "
   ]
  },
  {
   "cell_type": "code",
   "execution_count": 12,
   "id": "806ee96d",
   "metadata": {},
   "outputs": [],
   "source": [
    "url = 'https://www.google.es'\n"
   ]
  },
  {
   "cell_type": "code",
   "execution_count": 19,
   "id": "f98f496c",
   "metadata": {},
   "outputs": [],
   "source": [
    "urls = ['https://www.blablacar.es/search?fn=Murcia%2C%20Espa%C3%B1a&tn=Valencia%2C%20Espa%C3%B1a&db=2022-09-03&seats=1&searchOrigin=search&from_place_id=eyJpIjoiQ2hJSmY0eVMxZmlCWXcwUm1xdkVPSnNTSjlZIiwicCI6MSwidiI6MSwidCI6W119&to_place_id=eyJpIjoiQ2hJSmI3RHY4RXhQWUEwUk9SMV9Id0ZSbzdRIiwicCI6MSwidiI6MSwidCI6W119', 'https://www.blablacar.es/search?fn=Murcia%2C%20Espa%C3%B1a&tn=Madrid%2C%20Espa%C3%B1a&db=2022-09-03&seats=1&searchOrigin=search&from_place_id=eyJpIjoiQ2hJSmY0eVMxZmlCWXcwUm1xdkVPSnNTSjlZIiwicCI6MSwidiI6MSwidCI6W119&to_place_id=eyJpIjoiQ2hJSmdUd0tnSmNwUWcwUmFTS01ZY0hlTnNRIiwicCI6MSwidiI6MSwidCI6W119', 'https://www.blablacar.es/search?fn=Murcia%2C%20Espa%C3%B1a&tn=Barcelona%2C%20Espa%C3%B1a&db=2022-09-03&seats=1&searchOrigin=search&from_place_id=eyJpIjoiQ2hJSmY0eVMxZmlCWXcwUm1xdkVPSnNTSjlZIiwicCI6MSwidiI6MSwidCI6W119&to_place_id=eyJpIjoiQ2hJSjVUQ09jUmFZcEJJUkNtWkhUejM3c0VRIiwicCI6MSwidiI6MSwidCI6W119', 'https://www.blablacar.es/search?fn=Murcia%2C%20Espa%C3%B1a&tn=Sevilla%2C%20Espa%C3%B1a&db=2022-09-03&seats=1&searchOrigin=search&from_place_id=eyJpIjoiQ2hJSmY0eVMxZmlCWXcwUm1xdkVPSnNTSjlZIiwicCI6MSwidiI6MSwidCI6W119&to_place_id=eyJpIjoiQ2hJSmtXSy1GQkZzRWcwUlNGYi1IR0lZOERRIiwicCI6MSwidiI6MSwidCI6W119', 'https://www.blablacar.es/search?fn=Murcia%2C%20Espa%C3%B1a&tn=Alicante%2C%20Espa%C3%B1a&db=2022-09-03&seats=1&searchOrigin=search&from_place_id=eyJpIjoiQ2hJSmY0eVMxZmlCWXcwUm1xdkVPSnNTSjlZIiwicCI6MSwidiI6MSwidCI6W119&to_place_id=eyJpIjoiQ2hJSlM2dWRPOW8xWWcwUjQ0RUxySEtvZlIwIiwicCI6MSwidiI6MSwidCI6W119', 'https://www.blablacar.es/search?fn=Murcia%2C%20Espa%C3%B1a&tn=M%C3%A1laga%2C%20Espa%C3%B1a&db=2022-09-03&seats=1&searchOrigin=search&from_place_id=eyJpIjoiQ2hJSmY0eVMxZmlCWXcwUm1xdkVPSnNTSjlZIiwicCI6MSwidiI6MSwidCI6W119&to_place_id=eyJpIjoiQ2hJSkxTSGJUOFJaY2cwUnp6TEt5WkxjSldBIiwicCI6MSwidiI6MSwidCI6W119', 'https://www.blablacar.es/search?fn=Murcia%2C%20Espa%C3%B1a&tn=Cádiz%2C%20Espa%C3%B1a&db=2022-09-03&seats=1&searchOrigin=search&from_place_id=eyJpIjoiQ2hJSmY0eVMxZmlCWXcwUm1xdkVPSnNTSjlZIiwicCI6MSwidiI6MSwidCI6W119&to_place_id=eyJpIjoiQ2hJSkR5VHNKRmZTRFEwUkFEdWdqUDFqQkFRIiwicCI6MSwidiI6MSwidCI6W119', 'https://www.blablacar.es/search?fn=Murcia%2C%20Espa%C3%B1a&tn=Vizcaya%2C%20Espa%C3%B1a&db=2022-09-03&seats=1&searchOrigin=search&from_place_id=eyJpIjoiQ2hJSmY0eVMxZmlCWXcwUm1xdkVPSnNTSjlZIiwicCI6MSwidiI6MSwidCI6W119&to_place_id=eyJpIjoiQ2hJSk8wdGd6U3RhVGcwUlloSXk3T3RKS3dvIiwicCI6MSwidiI6MSwidCI6WzEsMl19', 'https://www.blablacar.es/search?fn=Murcia%2C%20Espa%C3%B1a&tn=La%20Coruña%2C%20Espa%C3%B1a&db=2022-09-03&seats=1&searchOrigin=search&from_place_id=eyJpIjoiQ2hJSmY0eVMxZmlCWXcwUm1xdkVPSnNTSjlZIiwicCI6MSwidiI6MSwidCI6W119&to_place_id=eyJpIjoiQ2hJSlRWZDA4Zng4TGcwUjd0OWNDUTAxUjJvIiwicCI6MSwidiI6MSwidCI6W119', 'https://www.blablacar.es/search?fn=Murcia%2C%20Espa%C3%B1a&tn=Asturias%2C%20Espa%C3%B1a&db=2022-09-03&seats=1&searchOrigin=search&from_place_id=eyJpIjoiQ2hJSmY0eVMxZmlCWXcwUm1xdkVPSnNTSjlZIiwicCI6MSwidiI6MSwidCI6W119&to_place_id=eyJpIjoiQ2hJSkd3bzdQQ3lmTmcwUjJvVXZUOUdSdlFjIiwicCI6MSwidiI6MSwidCI6WzJdfQ%3D%3D', 'https://www.blablacar.es/search?fn=Murcia%2C%20Espa%C3%B1a&tn=Zaragoza%2C%20Espa%C3%B1a&db=2022-09-03&seats=1&searchOrigin=search&from_place_id=eyJpIjoiQ2hJSmY0eVMxZmlCWXcwUm1xdkVPSnNTSjlZIiwicCI6MSwidiI6MSwidCI6W119&to_place_id=eyJpIjoiQ2hJSmtZNWhYdDBVV1EwUnFJbUVGZkVUMzBrIiwicCI6MSwidiI6MSwidCI6W119', 'https://www.blablacar.es/search?fn=Murcia%2C%20Espa%C3%B1a&tn=Pontevedra%2C%20Espa%C3%B1a&db=2022-09-03&seats=1&searchOrigin=search&from_place_id=eyJpIjoiQ2hJSmY0eVMxZmlCWXcwUm1xdkVPSnNTSjlZIiwicCI6MSwidiI6MSwidCI6W119&to_place_id=eyJpIjoiQ2hJSjE2YWRNODl4THcwUjFESGtHem9XVzIwIiwicCI6MSwidiI6MSwidCI6W119', 'https://www.blablacar.es/search?fn=Cádiz%2C%20Espa%C3%B1a&tn=Valencia%2C%20Espa%C3%B1a&db=2022-09-03&seats=1&searchOrigin=search&from_place_id=eyJpIjoiQ2hJSkR5VHNKRmZTRFEwUkFEdWdqUDFqQkFRIiwicCI6MSwidiI6MSwidCI6W119&to_place_id=eyJpIjoiQ2hJSmI3RHY4RXhQWUEwUk9SMV9Id0ZSbzdRIiwicCI6MSwidiI6MSwidCI6W119', 'https://www.blablacar.es/search?fn=Cádiz%2C%20Espa%C3%B1a&tn=Madrid%2C%20Espa%C3%B1a&db=2022-09-03&seats=1&searchOrigin=search&from_place_id=eyJpIjoiQ2hJSkR5VHNKRmZTRFEwUkFEdWdqUDFqQkFRIiwicCI6MSwidiI6MSwidCI6W119&to_place_id=eyJpIjoiQ2hJSmdUd0tnSmNwUWcwUmFTS01ZY0hlTnNRIiwicCI6MSwidiI6MSwidCI6W119', 'https://www.blablacar.es/search?fn=Cádiz%2C%20Espa%C3%B1a&tn=Barcelona%2C%20Espa%C3%B1a&db=2022-09-03&seats=1&searchOrigin=search&from_place_id=eyJpIjoiQ2hJSkR5VHNKRmZTRFEwUkFEdWdqUDFqQkFRIiwicCI6MSwidiI6MSwidCI6W119&to_place_id=eyJpIjoiQ2hJSjVUQ09jUmFZcEJJUkNtWkhUejM3c0VRIiwicCI6MSwidiI6MSwidCI6W119', 'https://www.blablacar.es/search?fn=Cádiz%2C%20Espa%C3%B1a&tn=Sevilla%2C%20Espa%C3%B1a&db=2022-09-03&seats=1&searchOrigin=search&from_place_id=eyJpIjoiQ2hJSkR5VHNKRmZTRFEwUkFEdWdqUDFqQkFRIiwicCI6MSwidiI6MSwidCI6W119&to_place_id=eyJpIjoiQ2hJSmtXSy1GQkZzRWcwUlNGYi1IR0lZOERRIiwicCI6MSwidiI6MSwidCI6W119', 'https://www.blablacar.es/search?fn=Cádiz%2C%20Espa%C3%B1a&tn=Alicante%2C%20Espa%C3%B1a&db=2022-09-03&seats=1&searchOrigin=search&from_place_id=eyJpIjoiQ2hJSkR5VHNKRmZTRFEwUkFEdWdqUDFqQkFRIiwicCI6MSwidiI6MSwidCI6W119&to_place_id=eyJpIjoiQ2hJSlM2dWRPOW8xWWcwUjQ0RUxySEtvZlIwIiwicCI6MSwidiI6MSwidCI6W119', 'https://www.blablacar.es/search?fn=Cádiz%2C%20Espa%C3%B1a&tn=M%C3%A1laga%2C%20Espa%C3%B1a&db=2022-09-03&seats=1&searchOrigin=search&from_place_id=eyJpIjoiQ2hJSkR5VHNKRmZTRFEwUkFEdWdqUDFqQkFRIiwicCI6MSwidiI6MSwidCI6W119&to_place_id=eyJpIjoiQ2hJSkxTSGJUOFJaY2cwUnp6TEt5WkxjSldBIiwicCI6MSwidiI6MSwidCI6W119', 'https://www.blablacar.es/search?fn=Cádiz%2C%20Espa%C3%B1a&tn=Murcia%2C%20Espa%C3%B1a&db=2022-09-03&seats=1&searchOrigin=search&from_place_id=eyJpIjoiQ2hJSkR5VHNKRmZTRFEwUkFEdWdqUDFqQkFRIiwicCI6MSwidiI6MSwidCI6W119&to_place_id=eyJpIjoiQ2hJSmY0eVMxZmlCWXcwUm1xdkVPSnNTSjlZIiwicCI6MSwidiI6MSwidCI6W119', 'https://www.blablacar.es/search?fn=Cádiz%2C%20Espa%C3%B1a&tn=Vizcaya%2C%20Espa%C3%B1a&db=2022-09-03&seats=1&searchOrigin=search&from_place_id=eyJpIjoiQ2hJSkR5VHNKRmZTRFEwUkFEdWdqUDFqQkFRIiwicCI6MSwidiI6MSwidCI6W119&to_place_id=eyJpIjoiQ2hJSk8wdGd6U3RhVGcwUlloSXk3T3RKS3dvIiwicCI6MSwidiI6MSwidCI6WzEsMl19', 'https://www.blablacar.es/search?fn=Cádiz%2C%20Espa%C3%B1a&tn=La%20Coruña%2C%20Espa%C3%B1a&db=2022-09-03&seats=1&searchOrigin=search&from_place_id=eyJpIjoiQ2hJSkR5VHNKRmZTRFEwUkFEdWdqUDFqQkFRIiwicCI6MSwidiI6MSwidCI6W119&to_place_id=eyJpIjoiQ2hJSlRWZDA4Zng4TGcwUjd0OWNDUTAxUjJvIiwicCI6MSwidiI6MSwidCI6W119', 'https://www.blablacar.es/search?fn=Cádiz%2C%20Espa%C3%B1a&tn=Asturias%2C%20Espa%C3%B1a&db=2022-09-03&seats=1&searchOrigin=search&from_place_id=eyJpIjoiQ2hJSkR5VHNKRmZTRFEwUkFEdWdqUDFqQkFRIiwicCI6MSwidiI6MSwidCI6W119&to_place_id=eyJpIjoiQ2hJSkd3bzdQQ3lmTmcwUjJvVXZUOUdSdlFjIiwicCI6MSwidiI6MSwidCI6WzJdfQ%3D%3D', 'https://www.blablacar.es/search?fn=Cádiz%2C%20Espa%C3%B1a&tn=Zaragoza%2C%20Espa%C3%B1a&db=2022-09-03&seats=1&searchOrigin=search&from_place_id=eyJpIjoiQ2hJSkR5VHNKRmZTRFEwUkFEdWdqUDFqQkFRIiwicCI6MSwidiI6MSwidCI6W119&to_place_id=eyJpIjoiQ2hJSmtZNWhYdDBVV1EwUnFJbUVGZkVUMzBrIiwicCI6MSwidiI6MSwidCI6W119', 'https://www.blablacar.es/search?fn=Cádiz%2C%20Espa%C3%B1a&tn=Pontevedra%2C%20Espa%C3%B1a&db=2022-09-03&seats=1&searchOrigin=search&from_place_id=eyJpIjoiQ2hJSkR5VHNKRmZTRFEwUkFEdWdqUDFqQkFRIiwicCI6MSwidiI6MSwidCI6W119&to_place_id=eyJpIjoiQ2hJSjE2YWRNODl4THcwUjFESGtHem9XVzIwIiwicCI6MSwidiI6MSwidCI6W119', 'https://www.blablacar.es/search?fn=Vizcaya%2C%20Espa%C3%B1a&tn=Valencia%2C%20Espa%C3%B1a&db=2022-09-03&seats=1&searchOrigin=search&from_place_id=eyJpIjoiQ2hJSk8wdGd6U3RhVGcwUlloSXk3T3RKS3dvIiwicCI6MSwidiI6MSwidCI6WzEsMl19&to_place_id=eyJpIjoiQ2hJSmI3RHY4RXhQWUEwUk9SMV9Id0ZSbzdRIiwicCI6MSwidiI6MSwidCI6W119', 'https://www.blablacar.es/search?fn=Vizcaya%2C%20Espa%C3%B1a&tn=Madrid%2C%20Espa%C3%B1a&db=2022-09-03&seats=1&searchOrigin=search&from_place_id=eyJpIjoiQ2hJSk8wdGd6U3RhVGcwUlloSXk3T3RKS3dvIiwicCI6MSwidiI6MSwidCI6WzEsMl19&to_place_id=eyJpIjoiQ2hJSmdUd0tnSmNwUWcwUmFTS01ZY0hlTnNRIiwicCI6MSwidiI6MSwidCI6W119', 'https://www.blablacar.es/search?fn=Vizcaya%2C%20Espa%C3%B1a&tn=Barcelona%2C%20Espa%C3%B1a&db=2022-09-03&seats=1&searchOrigin=search&from_place_id=eyJpIjoiQ2hJSk8wdGd6U3RhVGcwUlloSXk3T3RKS3dvIiwicCI6MSwidiI6MSwidCI6WzEsMl19&to_place_id=eyJpIjoiQ2hJSjVUQ09jUmFZcEJJUkNtWkhUejM3c0VRIiwicCI6MSwidiI6MSwidCI6W119', 'https://www.blablacar.es/search?fn=Vizcaya%2C%20Espa%C3%B1a&tn=Sevilla%2C%20Espa%C3%B1a&db=2022-09-03&seats=1&searchOrigin=search&from_place_id=eyJpIjoiQ2hJSk8wdGd6U3RhVGcwUlloSXk3T3RKS3dvIiwicCI6MSwidiI6MSwidCI6WzEsMl19&to_place_id=eyJpIjoiQ2hJSmtXSy1GQkZzRWcwUlNGYi1IR0lZOERRIiwicCI6MSwidiI6MSwidCI6W119', 'https://www.blablacar.es/search?fn=Vizcaya%2C%20Espa%C3%B1a&tn=Alicante%2C%20Espa%C3%B1a&db=2022-09-03&seats=1&searchOrigin=search&from_place_id=eyJpIjoiQ2hJSk8wdGd6U3RhVGcwUlloSXk3T3RKS3dvIiwicCI6MSwidiI6MSwidCI6WzEsMl19&to_place_id=eyJpIjoiQ2hJSlM2dWRPOW8xWWcwUjQ0RUxySEtvZlIwIiwicCI6MSwidiI6MSwidCI6W119', 'https://www.blablacar.es/search?fn=Vizcaya%2C%20Espa%C3%B1a&tn=M%C3%A1laga%2C%20Espa%C3%B1a&db=2022-09-03&seats=1&searchOrigin=search&from_place_id=eyJpIjoiQ2hJSk8wdGd6U3RhVGcwUlloSXk3T3RKS3dvIiwicCI6MSwidiI6MSwidCI6WzEsMl19&to_place_id=eyJpIjoiQ2hJSkxTSGJUOFJaY2cwUnp6TEt5WkxjSldBIiwicCI6MSwidiI6MSwidCI6W119', 'https://www.blablacar.es/search?fn=Vizcaya%2C%20Espa%C3%B1a&tn=Murcia%2C%20Espa%C3%B1a&db=2022-09-03&seats=1&searchOrigin=search&from_place_id=eyJpIjoiQ2hJSk8wdGd6U3RhVGcwUlloSXk3T3RKS3dvIiwicCI6MSwidiI6MSwidCI6WzEsMl19&to_place_id=eyJpIjoiQ2hJSmY0eVMxZmlCWXcwUm1xdkVPSnNTSjlZIiwicCI6MSwidiI6MSwidCI6W119', 'https://www.blablacar.es/search?fn=Vizcaya%2C%20Espa%C3%B1a&tn=Cádiz%2C%20Espa%C3%B1a&db=2022-09-03&seats=1&searchOrigin=search&from_place_id=eyJpIjoiQ2hJSk8wdGd6U3RhVGcwUlloSXk3T3RKS3dvIiwicCI6MSwidiI6MSwidCI6WzEsMl19&to_place_id=eyJpIjoiQ2hJSkR5VHNKRmZTRFEwUkFEdWdqUDFqQkFRIiwicCI6MSwidiI6MSwidCI6W119', 'https://www.blablacar.es/search?fn=Vizcaya%2C%20Espa%C3%B1a&tn=La%20Coruña%2C%20Espa%C3%B1a&db=2022-09-03&seats=1&searchOrigin=search&from_place_id=eyJpIjoiQ2hJSk8wdGd6U3RhVGcwUlloSXk3T3RKS3dvIiwicCI6MSwidiI6MSwidCI6WzEsMl19&to_place_id=eyJpIjoiQ2hJSlRWZDA4Zng4TGcwUjd0OWNDUTAxUjJvIiwicCI6MSwidiI6MSwidCI6W119', 'https://www.blablacar.es/search?fn=Vizcaya%2C%20Espa%C3%B1a&tn=Asturias%2C%20Espa%C3%B1a&db=2022-09-03&seats=1&searchOrigin=search&from_place_id=eyJpIjoiQ2hJSk8wdGd6U3RhVGcwUlloSXk3T3RKS3dvIiwicCI6MSwidiI6MSwidCI6WzEsMl19&to_place_id=eyJpIjoiQ2hJSkd3bzdQQ3lmTmcwUjJvVXZUOUdSdlFjIiwicCI6MSwidiI6MSwidCI6WzJdfQ%3D%3D', 'https://www.blablacar.es/search?fn=Vizcaya%2C%20Espa%C3%B1a&tn=Zaragoza%2C%20Espa%C3%B1a&db=2022-09-03&seats=1&searchOrigin=search&from_place_id=eyJpIjoiQ2hJSk8wdGd6U3RhVGcwUlloSXk3T3RKS3dvIiwicCI6MSwidiI6MSwidCI6WzEsMl19&to_place_id=eyJpIjoiQ2hJSmtZNWhYdDBVV1EwUnFJbUVGZkVUMzBrIiwicCI6MSwidiI6MSwidCI6W119', 'https://www.blablacar.es/search?fn=Vizcaya%2C%20Espa%C3%B1a&tn=Pontevedra%2C%20Espa%C3%B1a&db=2022-09-03&seats=1&searchOrigin=search&from_place_id=eyJpIjoiQ2hJSk8wdGd6U3RhVGcwUlloSXk3T3RKS3dvIiwicCI6MSwidiI6MSwidCI6WzEsMl19&to_place_id=eyJpIjoiQ2hJSjE2YWRNODl4THcwUjFESGtHem9XVzIwIiwicCI6MSwidiI6MSwidCI6W119']\n",
    "\n"
   ]
  },
  {
   "cell_type": "markdown",
   "id": "c580621e",
   "metadata": {},
   "source": [
    "# bucle para ir n veces a las urls y recorrer toda la web"
   ]
  },
  {
   "cell_type": "code",
   "execution_count": 20,
   "id": "1b6ab1aa",
   "metadata": {},
   "outputs": [
    {
     "name": "stderr",
     "output_type": "stream",
     "text": [
      "  0%|                                                                                           | 0/36 [00:00<?, ?it/s]\n",
      "  0%|                                                                                           | 0/31 [00:00<?, ?it/s]\u001b[A\n",
      "  3%|██▋                                                                                | 1/31 [00:01<00:35,  1.18s/it]\u001b[A\n",
      " 10%|████████                                                                           | 3/31 [00:02<00:21,  1.30it/s]\u001b[A\n",
      " 16%|█████████████▍                                                                     | 5/31 [00:03<00:18,  1.44it/s]\u001b[A\n",
      " 23%|██████████████████▋                                                                | 7/31 [00:04<00:15,  1.51it/s]\u001b[A\n",
      " 29%|████████████████████████                                                           | 9/31 [00:06<00:14,  1.55it/s]\u001b[A\n",
      " 35%|█████████████████████████████                                                     | 11/31 [00:07<00:12,  1.57it/s]\u001b[A\n",
      " 42%|██████████████████████████████████▍                                               | 13/31 [00:08<00:11,  1.59it/s]\u001b[A\n",
      " 48%|███████████████████████████████████████▋                                          | 15/31 [00:09<00:09,  1.66it/s]\u001b[A\n",
      " 52%|██████████████████████████████████████████▎                                       | 16/31 [00:10<00:10,  1.39it/s]\u001b[A\n",
      " 58%|███████████████████████████████████████████████▌                                  | 18/31 [00:12<00:08,  1.46it/s]\u001b[A\n",
      " 61%|██████████████████████████████████████████████████▎                               | 19/31 [00:13<00:09,  1.26it/s]\u001b[A\n",
      " 68%|███████████████████████████████████████████████████████▌                          | 21/31 [00:14<00:07,  1.37it/s]\u001b[A\n",
      " 74%|████████████████████████████████████████████████████████████▊                     | 23/31 [00:15<00:05,  1.50it/s]\u001b[A\n",
      " 77%|███████████████████████████████████████████████████████████████▍                  | 24/31 [00:16<00:05,  1.29it/s]\u001b[A\n",
      " 84%|████████████████████████████████████████████████████████████████████▊             | 26/31 [00:18<00:03,  1.40it/s]\u001b[A\n",
      " 90%|██████████████████████████████████████████████████████████████████████████        | 28/31 [00:19<00:02,  1.46it/s]\u001b[A\n",
      "100%|██████████████████████████████████████████████████████████████████████████████████| 31/31 [00:20<00:00,  1.50it/s]\u001b[A\n",
      "  3%|██▎                                                                                | 1/36 [00:32<19:12, 32.93s/it]\n",
      "  0%|                                                                                           | 0/31 [00:00<?, ?it/s]\u001b[A\n",
      "  3%|██▋                                                                                | 1/31 [00:01<00:35,  1.19s/it]\u001b[A\n",
      " 10%|████████                                                                           | 3/31 [00:02<00:21,  1.30it/s]\u001b[A\n",
      " 16%|█████████████▍                                                                     | 5/31 [00:03<00:18,  1.44it/s]\u001b[A\n",
      " 23%|██████████████████▋                                                                | 7/31 [00:04<00:15,  1.58it/s]\u001b[A\n",
      " 26%|█████████████████████▍                                                             | 8/31 [00:06<00:17,  1.29it/s]\u001b[A\n",
      " 29%|████████████████████████                                                           | 9/31 [00:07<00:19,  1.12it/s]\u001b[A\n",
      " 32%|██████████████████████████▍                                                       | 10/31 [00:08<00:20,  1.01it/s]\u001b[A\n",
      " 39%|███████████████████████████████▋                                                  | 12/31 [00:09<00:15,  1.20it/s]\u001b[A\n",
      " 45%|█████████████████████████████████████                                             | 14/31 [00:11<00:12,  1.34it/s]\u001b[A\n",
      " 52%|██████████████████████████████████████████▎                                       | 16/31 [00:12<00:10,  1.43it/s]\u001b[A\n",
      " 58%|███████████████████████████████████████████████▌                                  | 18/31 [00:13<00:08,  1.48it/s]\u001b[A\n",
      " 65%|████████████████████████████████████████████████████▉                             | 20/31 [00:14<00:07,  1.52it/s]\u001b[A\n",
      " 68%|███████████████████████████████████████████████████████▌                          | 21/31 [00:15<00:07,  1.31it/s]\u001b[A\n",
      " 74%|████████████████████████████████████████████████████████████▊                     | 23/31 [00:17<00:05,  1.46it/s]\u001b[A\n",
      " 77%|███████████████████████████████████████████████████████████████▍                  | 24/31 [00:18<00:05,  1.31it/s]\u001b[A\n",
      " 81%|██████████████████████████████████████████████████████████████████▏               | 25/31 [00:19<00:04,  1.20it/s]\u001b[A\n",
      " 84%|████████████████████████████████████████████████████████████████████▊             | 26/31 [00:20<00:04,  1.13it/s]\u001b[A\n",
      " 87%|███████████████████████████████████████████████████████████████████████▍          | 27/31 [00:21<00:03,  1.02it/s]\u001b[A\n",
      " 90%|██████████████████████████████████████████████████████████████████████████        | 28/31 [00:22<00:03,  1.05s/it]\u001b[A\n",
      "100%|██████████████████████████████████████████████████████████████████████████████████| 31/31 [00:23<00:00,  1.29it/s]\u001b[A\n",
      "  6%|████▌                                                                              | 2/36 [01:08<19:37, 34.62s/it]\n",
      "  0%|                                                                                           | 0/31 [00:00<?, ?it/s]\u001b[A\n",
      "  3%|██▋                                                                                | 1/31 [00:01<00:31,  1.06s/it]\u001b[A\n",
      "  6%|█████▎                                                                             | 2/31 [00:02<00:30,  1.07s/it]\u001b[A\n",
      " 10%|████████                                                                           | 3/31 [00:03<00:30,  1.08s/it]\u001b[A\n",
      " 13%|██████████▋                                                                        | 4/31 [00:04<00:30,  1.12s/it]\u001b[A\n",
      " 16%|█████████████▍                                                                     | 5/31 [00:05<00:28,  1.10s/it]\u001b[A\n",
      " 19%|████████████████                                                                   | 6/31 [00:06<00:28,  1.13s/it]\u001b[A\n",
      " 23%|██████████████████▋                                                                | 7/31 [00:07<00:27,  1.14s/it]\u001b[A\n",
      "100%|██████████████████████████████████████████████████████████████████████████████████| 31/31 [00:08<00:00,  3.45it/s]\u001b[A\n",
      "  8%|██████▉                                                                            | 3/36 [01:29<15:32, 28.24s/it]\n",
      "  0%|                                                                                           | 0/31 [00:00<?, ?it/s]\u001b[A\n",
      "  3%|██▋                                                                                | 1/31 [00:01<00:31,  1.06s/it]\u001b[A\n",
      "  6%|█████▎                                                                             | 2/31 [00:02<00:33,  1.15s/it]\u001b[A\n",
      " 13%|██████████▋                                                                        | 4/31 [00:03<00:22,  1.22it/s]\u001b[A\n",
      " 19%|████████████████                                                                   | 6/31 [00:04<00:17,  1.41it/s]\u001b[A\n",
      "100%|██████████████████████████████████████████████████████████████████████████████████| 31/31 [00:05<00:00,  5.31it/s]\u001b[A\n",
      " 11%|█████████▏                                                                         | 4/36 [01:46<12:48, 24.02s/it]\n",
      "  0%|                                                                                           | 0/31 [00:00<?, ?it/s]\u001b[A\n",
      "  3%|██▋                                                                                | 1/31 [00:01<00:35,  1.20s/it]\u001b[A\n",
      " 10%|████████                                                                           | 3/31 [00:02<00:21,  1.30it/s]\u001b[A\n",
      " 16%|█████████████▍                                                                     | 5/31 [00:03<00:18,  1.44it/s]\u001b[A\n",
      " 19%|████████████████                                                                   | 6/31 [00:04<00:20,  1.20it/s]\u001b[A\n",
      " 26%|█████████████████████▍                                                             | 8/31 [00:06<00:17,  1.35it/s]\u001b[A\n",
      " 32%|██████████████████████████▍                                                       | 10/31 [00:07<00:14,  1.45it/s]\u001b[A\n",
      " 39%|███████████████████████████████▋                                                  | 12/31 [00:08<00:12,  1.50it/s]\u001b[A\n",
      " 45%|█████████████████████████████████████                                             | 14/31 [00:09<00:10,  1.55it/s]\u001b[A\n",
      " 52%|██████████████████████████████████████████▎                                       | 16/31 [00:11<00:09,  1.57it/s]\u001b[A\n",
      " 58%|███████████████████████████████████████████████▌                                  | 18/31 [00:12<00:07,  1.65it/s]\u001b[A\n",
      " 61%|██████████████████████████████████████████████████▎                               | 19/31 [00:13<00:08,  1.39it/s]\u001b[A\n",
      " 68%|███████████████████████████████████████████████████████▌                          | 21/31 [00:14<00:06,  1.45it/s]\u001b[A\n",
      " 71%|██████████████████████████████████████████████████████████▏                       | 22/31 [00:15<00:06,  1.31it/s]\u001b[A\n",
      " 74%|████████████████████████████████████████████████████████████▊                     | 23/31 [00:16<00:06,  1.20it/s]\u001b[A\n",
      " 77%|███████████████████████████████████████████████████████████████▍                  | 24/31 [00:17<00:06,  1.08it/s]\u001b[A\n",
      " 84%|████████████████████████████████████████████████████████████████████▊             | 26/31 [00:19<00:04,  1.24it/s]\u001b[A\n",
      " 90%|██████████████████████████████████████████████████████████████████████████        | 28/31 [00:20<00:02,  1.36it/s]\u001b[A\n",
      "100%|██████████████████████████████████████████████████████████████████████████████████| 31/31 [00:21<00:00,  1.43it/s]\u001b[A\n",
      " 14%|███████████▌                                                                       | 5/36 [02:20<14:11, 27.48s/it]\n",
      "  0%|                                                                                           | 0/31 [00:00<?, ?it/s]\u001b[A\n",
      "  3%|██▋                                                                                | 1/31 [00:01<00:37,  1.25s/it]\u001b[A\n",
      "  6%|█████▎                                                                             | 2/31 [00:02<00:37,  1.28s/it]\u001b[A\n",
      " 13%|██████████▋                                                                        | 4/31 [00:03<00:23,  1.15it/s]\u001b[A\n",
      " 19%|████████████████                                                                   | 6/31 [00:05<00:18,  1.34it/s]\u001b[A\n",
      " 26%|█████████████████████▍                                                             | 8/31 [00:06<00:16,  1.43it/s]\u001b[A\n",
      " 29%|████████████████████████                                                           | 9/31 [00:07<00:17,  1.29it/s]\u001b[A\n",
      " 32%|██████████████████████████▍                                                       | 10/31 [00:08<00:17,  1.18it/s]\u001b[A\n",
      " 35%|█████████████████████████████                                                     | 11/31 [00:09<00:18,  1.06it/s]\u001b[A\n",
      " 42%|██████████████████████████████████▍                                               | 13/31 [00:10<00:13,  1.29it/s]\u001b[A\n",
      " 45%|█████████████████████████████████████                                             | 14/31 [00:11<00:15,  1.13it/s]\u001b[A\n",
      " 48%|███████████████████████████████████████▋                                          | 15/31 [00:13<00:15,  1.03it/s]\u001b[A\n",
      " 55%|████████████████████████████████████████████▉                                     | 17/31 [00:14<00:11,  1.26it/s]\u001b[A\n",
      " 58%|███████████████████████████████████████████████▌                                  | 18/31 [00:15<00:11,  1.13it/s]\u001b[A\n",
      " 65%|████████████████████████████████████████████████████▉                             | 20/31 [00:16<00:08,  1.30it/s]\u001b[A\n",
      " 71%|██████████████████████████████████████████████████████████▏                       | 22/31 [00:17<00:06,  1.42it/s]\u001b[A\n",
      " 77%|███████████████████████████████████████████████████████████████▍                  | 24/31 [00:19<00:04,  1.50it/s]\u001b[A\n",
      " 84%|████████████████████████████████████████████████████████████████████▊             | 26/31 [00:20<00:03,  1.60it/s]\u001b[A\n",
      " 87%|███████████████████████████████████████████████████████████████████████▍          | 27/31 [00:21<00:02,  1.41it/s]\u001b[A\n",
      " 90%|██████████████████████████████████████████████████████████████████████████        | 28/31 [00:22<00:02,  1.24it/s]\u001b[A\n",
      " 97%|███████████████████████████████████████████████████████████████████████████████▎  | 30/31 [00:23<00:00,  1.38it/s]\u001b[A\n",
      "100%|██████████████████████████████████████████████████████████████████████████████████| 31/31 [00:24<00:00,  1.26it/s]\u001b[A\n",
      " 17%|█████████████▊                                                                     | 6/36 [02:56<15:13, 30.45s/it]\n",
      "  0%|                                                                                           | 0/31 [00:00<?, ?it/s]\u001b[A\n",
      "  3%|██▋                                                                                | 1/31 [00:01<00:36,  1.20s/it]\u001b[A\n",
      " 10%|████████                                                                           | 3/31 [00:02<00:21,  1.32it/s]\u001b[A\n",
      " 13%|██████████▋                                                                        | 4/31 [00:03<00:23,  1.16it/s]\u001b[A\n",
      " 16%|█████████████▍                                                                     | 5/31 [00:04<00:25,  1.01it/s]\u001b[A\n",
      " 19%|████████████████                                                                   | 6/31 [00:05<00:26,  1.06s/it]\u001b[A\n",
      "100%|██████████████████████████████████████████████████████████████████████████████████| 31/31 [00:07<00:00,  4.31it/s]\u001b[A\n",
      " 19%|████████████████▏                                                                  | 7/36 [03:15<12:53, 26.67s/it]\n",
      "100%|█████████████████████████████████████████████████████████████████████████████████| 31/31 [00:00<00:00, 333.03it/s]\u001b[A\n",
      " 22%|██████████████████▍                                                                | 8/36 [03:26<10:09, 21.75s/it]\n",
      "  0%|                                                                                           | 0/31 [00:00<?, ?it/s]\u001b[A\n",
      "100%|██████████████████████████████████████████████████████████████████████████████████| 31/31 [00:01<00:00, 26.60it/s]\u001b[A\n",
      " 25%|████████████████████▊                                                              | 9/36 [03:39<08:27, 18.78s/it]\n",
      "100%|█████████████████████████████████████████████████████████████████████████████████| 31/31 [00:00<00:00, 326.02it/s]\u001b[A\n",
      " 28%|██████████████████████▊                                                           | 10/36 [03:50<07:10, 16.55s/it]\n",
      "  0%|                                                                                           | 0/31 [00:00<?, ?it/s]\u001b[A\n",
      "100%|█████████████████████████████████████████████████████████████████████████████████| 31/31 [00:00<00:00, 297.81it/s]\u001b[A\n",
      " 31%|█████████████████████████                                                         | 11/36 [04:01<06:12, 14.92s/it]\n",
      "100%|█████████████████████████████████████████████████████████████████████████████████| 31/31 [00:00<00:00, 329.49it/s]\u001b[A\n",
      " 33%|███████████████████████████▎                                                      | 12/36 [04:12<05:29, 13.75s/it]\n",
      "100%|█████████████████████████████████████████████████████████████████████████████████| 31/31 [00:00<00:00, 326.02it/s]\u001b[A\n",
      " 36%|█████████████████████████████▌                                                    | 13/36 [04:24<05:01, 13.09s/it]\n",
      "  0%|                                                                                           | 0/31 [00:00<?, ?it/s]\u001b[A\n",
      "  3%|██▋                                                                                | 1/31 [00:01<00:32,  1.08s/it]\u001b[A\n",
      "  6%|█████▎                                                                             | 2/31 [00:02<00:31,  1.07s/it]\u001b[A\n",
      " 10%|████████                                                                           | 3/31 [00:03<00:31,  1.14s/it]\u001b[A\n",
      " 16%|█████████████▍                                                                     | 5/31 [00:04<00:22,  1.18it/s]\u001b[A\n",
      " 23%|██████████████████▋                                                                | 7/31 [00:05<00:17,  1.35it/s]\u001b[A\n",
      " 29%|████████████████████████                                                           | 9/31 [00:07<00:15,  1.44it/s]\u001b[A\n",
      " 32%|██████████████████████████▍                                                       | 10/31 [00:08<00:16,  1.29it/s]\u001b[A\n"
     ]
    },
    {
     "name": "stderr",
     "output_type": "stream",
     "text": [
      " 35%|█████████████████████████████                                                     | 11/31 [00:09<00:16,  1.18it/s]\u001b[A\n",
      " 39%|███████████████████████████████▋                                                  | 12/31 [00:10<00:17,  1.07it/s]\u001b[A\n",
      " 45%|█████████████████████████████████████                                             | 14/31 [00:11<00:13,  1.31it/s]\u001b[A\n",
      " 48%|███████████████████████████████████████▋                                          | 15/31 [00:12<00:13,  1.20it/s]\u001b[A\n",
      " 52%|██████████████████████████████████████████▎                                       | 16/31 [00:13<00:13,  1.12it/s]\u001b[A\n",
      " 55%|████████████████████████████████████████████▉                                     | 17/31 [00:14<00:13,  1.04it/s]\u001b[A\n",
      " 61%|██████████████████████████████████████████████████▎                               | 19/31 [00:15<00:09,  1.24it/s]\u001b[A\n",
      " 65%|████████████████████████████████████████████████████▉                             | 20/31 [00:17<00:09,  1.13it/s]\u001b[A\n",
      " 71%|██████████████████████████████████████████████████████████▏                       | 22/31 [00:18<00:06,  1.30it/s]\u001b[A\n",
      "100%|██████████████████████████████████████████████████████████████████████████████████| 31/31 [00:19<00:00,  1.59it/s]\u001b[A\n",
      " 39%|███████████████████████████████▉                                                  | 14/36 [04:55<06:47, 18.52s/it]\n",
      "100%|█████████████████████████████████████████████████████████████████████████████████| 31/31 [00:00<00:00, 319.30it/s]\u001b[A\n",
      " 42%|██████████████████████████████████▏                                               | 15/36 [05:07<05:43, 16.38s/it]\n",
      "  0%|                                                                                           | 0/31 [00:00<?, ?it/s]\u001b[A\n",
      "  3%|██▋                                                                                | 1/31 [00:01<00:35,  1.18s/it]\u001b[A\n",
      " 10%|████████                                                                           | 3/31 [00:02<00:21,  1.33it/s]\u001b[A\n",
      " 16%|█████████████▍                                                                     | 5/31 [00:03<00:16,  1.55it/s]\u001b[A\n",
      " 19%|████████████████                                                                   | 6/31 [00:04<00:20,  1.25it/s]\u001b[A\n",
      " 26%|█████████████████████▍                                                             | 8/31 [00:05<00:16,  1.38it/s]\u001b[A\n",
      " 32%|██████████████████████████▍                                                       | 10/31 [00:07<00:14,  1.45it/s]\u001b[A\n",
      " 39%|███████████████████████████████▋                                                  | 12/31 [00:08<00:12,  1.49it/s]\u001b[A\n",
      " 45%|█████████████████████████████████████                                             | 14/31 [00:09<00:11,  1.53it/s]\u001b[A\n",
      " 52%|██████████████████████████████████████████▎                                       | 16/31 [00:10<00:09,  1.55it/s]\u001b[A\n",
      " 58%|███████████████████████████████████████████████▌                                  | 18/31 [00:12<00:08,  1.56it/s]\u001b[A\n",
      " 61%|██████████████████████████████████████████████████▎                               | 19/31 [00:13<00:09,  1.33it/s]\u001b[A\n",
      " 68%|███████████████████████████████████████████████████████▌                          | 21/31 [00:14<00:07,  1.41it/s]\u001b[A\n",
      " 71%|██████████████████████████████████████████████████████████▏                       | 22/31 [00:15<00:07,  1.23it/s]\u001b[A\n",
      " 77%|███████████████████████████████████████████████████████████████▍                  | 24/31 [00:17<00:05,  1.34it/s]\u001b[A\n",
      " 84%|████████████████████████████████████████████████████████████████████▊             | 26/31 [00:18<00:03,  1.43it/s]\u001b[A\n",
      " 87%|███████████████████████████████████████████████████████████████████████▍          | 27/31 [00:19<00:03,  1.24it/s]\u001b[A\n",
      " 94%|████████████████████████████████████████████████████████████████████████████▋     | 29/31 [00:20<00:01,  1.35it/s]\u001b[A\n",
      "100%|██████████████████████████████████████████████████████████████████████████████████| 31/31 [00:22<00:00,  1.40it/s]\u001b[A\n",
      " 44%|████████████████████████████████████▍                                             | 16/36 [05:41<07:13, 21.69s/it]\n",
      "100%|█████████████████████████████████████████████████████████████████████████████████| 31/31 [00:00<00:00, 317.42it/s]\u001b[A\n",
      " 47%|██████████████████████████████████████▋                                           | 17/36 [05:53<06:01, 19.02s/it]\n",
      "  0%|                                                                                           | 0/31 [00:00<?, ?it/s]\u001b[A\n",
      "  3%|██▋                                                                                | 1/31 [00:01<00:35,  1.20s/it]\u001b[A\n",
      " 10%|████████                                                                           | 3/31 [00:02<00:19,  1.41it/s]\u001b[A\n",
      " 13%|██████████▋                                                                        | 4/31 [00:03<00:22,  1.19it/s]\u001b[A\n",
      " 16%|█████████████▍                                                                     | 5/31 [00:04<00:25,  1.03it/s]\u001b[A\n",
      " 23%|██████████████████▋                                                                | 7/31 [00:05<00:18,  1.27it/s]\u001b[A\n",
      " 29%|████████████████████████                                                           | 9/31 [00:06<00:15,  1.46it/s]\u001b[A\n",
      " 32%|██████████████████████████▍                                                       | 10/31 [00:07<00:16,  1.29it/s]\u001b[A\n",
      " 35%|█████████████████████████████                                                     | 11/31 [00:09<00:16,  1.18it/s]\u001b[A\n",
      " 39%|███████████████████████████████▋                                                  | 12/31 [00:10<00:17,  1.06it/s]\u001b[A\n",
      " 42%|██████████████████████████████████▍                                               | 13/31 [00:11<00:18,  1.02s/it]\u001b[A\n",
      " 45%|█████████████████████████████████████                                             | 14/31 [00:12<00:17,  1.03s/it]\u001b[A\n",
      " 48%|███████████████████████████████████████▋                                          | 15/31 [00:13<00:17,  1.09s/it]\u001b[A\n",
      " 52%|██████████████████████████████████████████▎                                       | 16/31 [00:14<00:16,  1.13s/it]\u001b[A\n",
      " 58%|███████████████████████████████████████████████▌                                  | 18/31 [00:16<00:11,  1.11it/s]\u001b[A\n",
      " 61%|██████████████████████████████████████████████████▎                               | 19/31 [00:17<00:11,  1.02it/s]\u001b[A\n",
      " 68%|███████████████████████████████████████████████████████▌                          | 21/31 [00:18<00:08,  1.22it/s]\u001b[A\n",
      " 74%|████████████████████████████████████████████████████████████▊                     | 23/31 [00:19<00:05,  1.36it/s]\u001b[A\n",
      " 81%|██████████████████████████████████████████████████████████████████▏               | 25/31 [00:20<00:04,  1.46it/s]\u001b[A\n",
      " 87%|███████████████████████████████████████████████████████████████████████▍          | 27/31 [00:22<00:02,  1.53it/s]\u001b[A\n",
      " 94%|████████████████████████████████████████████████████████████████████████████▋     | 29/31 [00:23<00:01,  1.58it/s]\u001b[A\n",
      "100%|██████████████████████████████████████████████████████████████████████████████████| 31/31 [00:24<00:00,  1.26it/s]\u001b[A\n",
      " 50%|█████████████████████████████████████████                                         | 18/36 [06:29<07:14, 24.14s/it]\n",
      "  0%|                                                                                           | 0/31 [00:00<?, ?it/s]\u001b[A\n",
      "100%|██████████████████████████████████████████████████████████████████████████████████| 31/31 [00:01<00:00, 23.60it/s]\u001b[A\n",
      " 53%|███████████████████████████████████████████▎                                      | 19/36 [06:42<05:52, 20.72s/it]\n",
      "100%|█████████████████████████████████████████████████████████████████████████████████| 31/31 [00:00<00:00, 319.29it/s]\u001b[A\n",
      " 56%|█████████████████████████████████████████████▌                                    | 20/36 [06:54<04:47, 17.96s/it]\n",
      "  0%|                                                                                           | 0/31 [00:00<?, ?it/s]\u001b[A\n",
      "  6%|█████▎                                                                             | 2/31 [00:01<00:15,  1.86it/s]\u001b[A\n",
      " 10%|████████                                                                           | 3/31 [00:02<00:21,  1.32it/s]\u001b[A\n",
      " 13%|██████████▋                                                                        | 4/31 [00:03<00:24,  1.08it/s]\u001b[A\n",
      "100%|██████████████████████████████████████████████████████████████████████████████████| 31/31 [00:04<00:00,  6.73it/s]\u001b[A\n",
      " 58%|███████████████████████████████████████████████▊                                  | 21/36 [07:09<04:19, 17.29s/it]\n",
      "100%|█████████████████████████████████████████████████████████████████████████████████| 31/31 [00:00<00:00, 326.02it/s]\u001b[A\n",
      " 61%|██████████████████████████████████████████████████                                | 22/36 [07:21<03:36, 15.46s/it]\n",
      "100%|█████████████████████████████████████████████████████████████████████████████████| 31/31 [00:00<00:00, 329.49it/s]\u001b[A\n",
      " 64%|████████████████████████████████████████████████████▍                             | 23/36 [07:32<03:05, 14.27s/it]\n",
      "100%|█████████████████████████████████████████████████████████████████████████████████| 31/31 [00:00<00:00, 329.49it/s]\u001b[A\n",
      " 67%|██████████████████████████████████████████████████████▋                           | 24/36 [07:43<02:40, 13.38s/it]\n",
      "100%|█████████████████████████████████████████████████████████████████████████████████| 31/31 [00:00<00:00, 322.62it/s]\u001b[A\n",
      " 69%|████████████████████████████████████████████████████████▉                         | 25/36 [07:55<02:21, 12.87s/it]\n",
      "  0%|                                                                                           | 0/31 [00:00<?, ?it/s]\u001b[A\n",
      "  3%|██▋                                                                                | 1/31 [00:01<00:35,  1.20s/it]\u001b[A\n",
      " 10%|████████                                                                           | 3/31 [00:02<00:21,  1.29it/s]\u001b[A\n",
      " 16%|█████████████▍                                                                     | 5/31 [00:03<00:17,  1.45it/s]\u001b[A\n",
      " 23%|██████████████████▋                                                                | 7/31 [00:04<00:14,  1.60it/s]\u001b[A\n",
      " 26%|█████████████████████▍                                                             | 8/31 [00:05<00:16,  1.38it/s]\u001b[A\n",
      " 29%|████████████████████████                                                           | 9/31 [00:07<00:18,  1.18it/s]\u001b[A\n",
      " 35%|█████████████████████████████                                                     | 11/31 [00:08<00:14,  1.39it/s]\u001b[A\n",
      " 39%|███████████████████████████████▋                                                  | 12/31 [00:09<00:15,  1.19it/s]\u001b[A\n",
      " 45%|█████████████████████████████████████                                             | 14/31 [00:10<00:12,  1.39it/s]\u001b[A\n",
      " 48%|███████████████████████████████████████▋                                          | 15/31 [00:11<00:12,  1.26it/s]\u001b[A\n",
      " 52%|██████████████████████████████████████████▎                                       | 16/31 [00:12<00:13,  1.12it/s]\u001b[A\n",
      " 58%|███████████████████████████████████████████████▌                                  | 18/31 [00:13<00:10,  1.28it/s]\u001b[A\n",
      " 65%|████████████████████████████████████████████████████▉                             | 20/31 [00:15<00:07,  1.40it/s]\u001b[A\n",
      " 71%|██████████████████████████████████████████████████████████▏                       | 22/31 [00:16<00:05,  1.53it/s]\u001b[A\n",
      " 74%|████████████████████████████████████████████████████████████▊                     | 23/31 [00:17<00:06,  1.33it/s]\u001b[A\n",
      " 77%|███████████████████████████████████████████████████████████████▍                  | 24/31 [00:18<00:05,  1.22it/s]\u001b[A\n",
      " 81%|██████████████████████████████████████████████████████████████████▏               | 25/31 [00:19<00:05,  1.10it/s]\u001b[A\n",
      " 87%|███████████████████████████████████████████████████████████████████████▍          | 27/31 [00:20<00:03,  1.29it/s]\u001b[A\n",
      " 94%|████████████████████████████████████████████████████████████████████████████▋     | 29/31 [00:21<00:01,  1.41it/s]\u001b[A\n",
      "100%|██████████████████████████████████████████████████████████████████████████████████| 31/31 [00:23<00:00,  1.34it/s]\u001b[A\n",
      " 72%|███████████████████████████████████████████████████████████▏                      | 26/36 [08:30<03:14, 19.44s/it]\n",
      "  0%|                                                                                           | 0/31 [00:00<?, ?it/s]\u001b[A\n",
      "  3%|██▋                                                                                | 1/31 [00:01<00:32,  1.08s/it]\u001b[A\n",
      "  6%|█████▎                                                                             | 2/31 [00:02<00:33,  1.14s/it]\u001b[A\n",
      " 13%|██████████▋                                                                        | 4/31 [00:03<00:21,  1.24it/s]\u001b[A\n",
      " 19%|████████████████                                                                   | 6/31 [00:04<00:16,  1.47it/s]\u001b[A\n",
      " 23%|██████████████████▋                                                                | 7/31 [00:05<00:19,  1.23it/s]\u001b[A\n",
      " 29%|████████████████████████                                                           | 9/31 [00:06<00:15,  1.38it/s]\u001b[A\n",
      "100%|██████████████████████████████████████████████████████████████████████████████████| 31/31 [00:08<00:00,  3.79it/s]\u001b[A\n",
      " 75%|█████████████████████████████████████████████████████████████▌                    | 27/36 [08:50<02:56, 19.61s/it]\n",
      "100%|█████████████████████████████████████████████████████████████████████████████████| 31/31 [00:00<00:00, 322.62it/s]\u001b[A\n",
      " 78%|███████████████████████████████████████████████████████████████▊                  | 28/36 [09:01<02:16, 17.04s/it]\n",
      "100%|█████████████████████████████████████████████████████████████████████████████████| 31/31 [00:00<00:00, 324.02it/s]\u001b[A\n",
      " 81%|██████████████████████████████████████████████████████████████████                | 29/36 [09:12<01:46, 15.22s/it]\n",
      "100%|█████████████████████████████████████████████████████████████████████████████████| 31/31 [00:00<00:00, 326.02it/s]\u001b[A\n",
      " 83%|████████████████████████████████████████████████████████████████████▎             | 30/36 [09:23<01:23, 14.00s/it]\n",
      "100%|█████████████████████████████████████████████████████████████████████████████████| 31/31 [00:00<00:00, 324.02it/s]\u001b[A\n",
      " 86%|██████████████████████████████████████████████████████████████████████▌           | 31/36 [09:35<01:07, 13.49s/it]\n",
      "100%|█████████████████████████████████████████████████████████████████████████████████| 31/31 [00:00<00:00, 329.49it/s]\u001b[A\n",
      " 89%|████████████████████████████████████████████████████████████████████████▉         | 32/36 [09:47<00:51, 12.86s/it]\n",
      "  0%|                                                                                           | 0/31 [00:00<?, ?it/s]\u001b[A\n",
      "  3%|██▋                                                                                | 1/31 [00:01<00:37,  1.24s/it]\u001b[A\n",
      "100%|██████████████████████████████████████████████████████████████████████████████████| 31/31 [00:02<00:00, 12.93it/s]\u001b[A\n",
      " 92%|███████████████████████████████████████████████████████████████████████████▏      | 33/36 [10:00<00:39, 13.12s/it]\n",
      "  0%|                                                                                           | 0/31 [00:00<?, ?it/s]\u001b[A\n",
      "  3%|██▋                                                                                | 1/31 [00:01<00:35,  1.19s/it]\u001b[A\n",
      " 10%|████████                                                                           | 3/31 [00:02<00:21,  1.30it/s]\u001b[A\n",
      " 16%|█████████████▍                                                                     | 5/31 [00:03<00:17,  1.45it/s]\u001b[A\n",
      " 23%|██████████████████▋                                                                | 7/31 [00:04<00:15,  1.53it/s]\u001b[A\n",
      " 29%|████████████████████████                                                           | 9/31 [00:06<00:14,  1.56it/s]\u001b[A\n",
      " 32%|██████████████████████████▍                                                       | 10/31 [00:07<00:15,  1.37it/s]\u001b[A\n",
      " 35%|█████████████████████████████                                                     | 11/31 [00:08<00:16,  1.24it/s]\u001b[A\n",
      " 39%|███████████████████████████████▋                                                  | 12/31 [00:09<00:17,  1.11it/s]\u001b[A\n",
      " 45%|█████████████████████████████████████                                             | 14/31 [00:10<00:13,  1.30it/s]\u001b[A\n"
     ]
    },
    {
     "name": "stderr",
     "output_type": "stream",
     "text": [
      " 52%|██████████████████████████████████████████▎                                       | 16/31 [00:11<00:10,  1.46it/s]\u001b[A\n",
      " 55%|████████████████████████████████████████████▉                                     | 17/31 [00:12<00:11,  1.27it/s]\u001b[A\n",
      " 58%|███████████████████████████████████████████████▌                                  | 18/31 [00:14<00:11,  1.14it/s]\u001b[A\n",
      " 65%|████████████████████████████████████████████████████▉                             | 20/31 [00:15<00:08,  1.35it/s]\u001b[A\n",
      "100%|██████████████████████████████████████████████████████████████████████████████████| 31/31 [00:16<00:00,  1.91it/s]\u001b[A\n",
      " 94%|█████████████████████████████████████████████████████████████████████████████▍    | 34/36 [10:29<00:35, 17.78s/it]\n",
      "  0%|                                                                                           | 0/31 [00:00<?, ?it/s]\u001b[A\n",
      "  3%|██▋                                                                                | 1/31 [00:01<00:35,  1.18s/it]\u001b[A\n",
      " 10%|████████                                                                           | 3/31 [00:02<00:21,  1.31it/s]\u001b[A\n",
      " 13%|██████████▋                                                                        | 4/31 [00:03<00:23,  1.15it/s]\u001b[A\n",
      " 16%|█████████████▍                                                                     | 5/31 [00:04<00:25,  1.02it/s]\u001b[A\n",
      " 23%|██████████████████▋                                                                | 7/31 [00:05<00:18,  1.31it/s]\u001b[A\n",
      " 26%|█████████████████████▍                                                             | 8/31 [00:06<00:20,  1.14it/s]\u001b[A\n",
      " 32%|██████████████████████████▍                                                       | 10/31 [00:08<00:16,  1.31it/s]\u001b[A\n",
      " 39%|███████████████████████████████▋                                                  | 12/31 [00:09<00:12,  1.47it/s]\u001b[A\n",
      " 42%|██████████████████████████████████▍                                               | 13/31 [00:10<00:13,  1.31it/s]\u001b[A\n",
      " 45%|█████████████████████████████████████                                             | 14/31 [00:11<00:14,  1.17it/s]\u001b[A\n",
      " 52%|██████████████████████████████████████████▎                                       | 16/31 [00:12<00:11,  1.33it/s]\u001b[A\n",
      " 55%|████████████████████████████████████████████▉                                     | 17/31 [00:13<00:11,  1.18it/s]\u001b[A\n",
      " 58%|███████████████████████████████████████████████▌                                  | 18/31 [00:15<00:11,  1.08it/s]\u001b[A\n",
      " 65%|████████████████████████████████████████████████████▉                             | 20/31 [00:16<00:08,  1.31it/s]\u001b[A\n",
      "100%|██████████████████████████████████████████████████████████████████████████████████| 31/31 [00:17<00:00,  1.79it/s]\u001b[A\n",
      " 97%|███████████████████████████████████████████████████████████████████████████████▋  | 35/36 [10:59<00:21, 21.53s/it]\n",
      "100%|█████████████████████████████████████████████████████████████████████████████████| 31/31 [00:00<00:00, 319.30it/s]\u001b[A\n",
      "100%|██████████████████████████████████████████████████████████████████████████████████| 36/36 [11:11<00:00, 18.65s/it]"
     ]
    },
    {
     "name": "stdout",
     "output_type": "stream",
     "text": [
      "CPU times: total: 3.14 s\n",
      "Wall time: 11min 13s\n"
     ]
    },
    {
     "name": "stderr",
     "output_type": "stream",
     "text": [
      "\n"
     ]
    }
   ],
   "source": [
    "%%time\n",
    "\n",
    "driver.get(url)\n",
    "\n",
    "for url in tqdm(urls):\n",
    "    driver.get(url)\n",
    "    time.sleep(10)\n",
    "    for i in tqdm(range(5,36)):\n",
    "        try:\n",
    "            scrap_blablacar_new2 (url, i)\n",
    "        except:\n",
    "            pass "
   ]
  },
  {
   "cell_type": "code",
   "execution_count": null,
   "id": "8f7cc8c6",
   "metadata": {},
   "outputs": [],
   "source": []
  },
  {
   "cell_type": "code",
   "execution_count": null,
   "id": "fda89f5d",
   "metadata": {},
   "outputs": [],
   "source": []
  },
  {
   "cell_type": "code",
   "execution_count": null,
   "id": "13d71b05",
   "metadata": {},
   "outputs": [],
   "source": []
  },
  {
   "cell_type": "code",
   "execution_count": null,
   "id": "b6fabaaa",
   "metadata": {},
   "outputs": [],
   "source": []
  },
  {
   "cell_type": "code",
   "execution_count": null,
   "id": "c67c0bb1",
   "metadata": {},
   "outputs": [],
   "source": []
  },
  {
   "cell_type": "code",
   "execution_count": null,
   "id": "8378cadf",
   "metadata": {},
   "outputs": [],
   "source": []
  }
 ],
 "metadata": {
  "kernelspec": {
   "display_name": "Python 3 (ipykernel)",
   "language": "python",
   "name": "python3"
  },
  "language_info": {
   "codemirror_mode": {
    "name": "ipython",
    "version": 3
   },
   "file_extension": ".py",
   "mimetype": "text/x-python",
   "name": "python",
   "nbconvert_exporter": "python",
   "pygments_lexer": "ipython3",
   "version": "3.9.12"
  }
 },
 "nbformat": 4,
 "nbformat_minor": 5
}
